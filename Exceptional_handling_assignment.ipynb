{
 "cells": [
  {
   "cell_type": "code",
   "execution_count": 10,
   "id": "272ec89f",
   "metadata": {},
   "outputs": [],
   "source": [
    "from selenium import webdriver\n",
    "from selenium.webdriver.common.by import By\n",
    "from selenium.webdriver.support.ui import WebDriverWait\n",
    "from selenium.webdriver.support import expected_conditions as EC"
   ]
  },
  {
   "cell_type": "code",
   "execution_count": 11,
   "id": "0004cc94",
   "metadata": {},
   "outputs": [
    {
     "name": "stdout",
     "output_type": "stream",
     "text": [
      "Enter the product to search: guitar\n"
     ]
    }
   ],
   "source": [
    "product_name = input(\"Enter the product to search: \")"
   ]
  },
  {
   "cell_type": "code",
   "execution_count": 12,
   "id": "2fd9db99",
   "metadata": {},
   "outputs": [],
   "source": [
    "driver = webdriver.Chrome()"
   ]
  },
  {
   "cell_type": "code",
   "execution_count": 13,
   "id": "445b4be7",
   "metadata": {},
   "outputs": [],
   "source": [
    "driver.get(\"https://www.amazon.in/\")"
   ]
  },
  {
   "cell_type": "code",
   "execution_count": 14,
   "id": "3867c0ea",
   "metadata": {},
   "outputs": [],
   "source": [
    "search_box = driver.find_element(By.ID, \"twotabsearchtextbox\")\n",
    "search_box.send_keys(product_name)"
   ]
  },
  {
   "cell_type": "code",
   "execution_count": 15,
   "id": "5fcfda4e",
   "metadata": {},
   "outputs": [],
   "source": [
    "search_button = driver.find_element(By.XPATH, \"//input[@value='Go']\")\n",
    "search_button.click()"
   ]
  },
  {
   "cell_type": "code",
   "execution_count": 16,
   "id": "09b6ea07",
   "metadata": {},
   "outputs": [
    {
     "data": {
      "text/plain": [
       "<selenium.webdriver.remote.webelement.WebElement (session=\"352fb8a6a81b02bafbc13655b24acc5a\", element=\"17380507000CFFF43CB9C265C43C29FF_element_80\")>"
      ]
     },
     "execution_count": 16,
     "metadata": {},
     "output_type": "execute_result"
    }
   ],
   "source": [
    "WebDriverWait(driver, 10).until(EC.presence_of_element_located((By.XPATH, \"//div[@data-component-type='s-search-result']\")))"
   ]
  },
  {
   "cell_type": "code",
   "execution_count": 17,
   "id": "e0acdc7f",
   "metadata": {},
   "outputs": [],
   "source": [
    "product_links = driver.find_elements(By.XPATH, \"//a[@class='a-link-normal a-text-normal']\")"
   ]
  },
  {
   "cell_type": "code",
   "execution_count": 18,
   "id": "8cc72790",
   "metadata": {},
   "outputs": [],
   "source": [
    "for link in product_links:\n",
    "    product_title = link.get_attribute(\"innerHTML\").strip()\n",
    "    product_url = link.get_attribute(\"href\")\n",
    "    print(f\"Product: {product_title}\")\n",
    "    print(f\"URL: {product_url}\")\n",
    "    print()"
   ]
  },
  {
   "cell_type": "code",
   "execution_count": 19,
   "id": "6a3a2996",
   "metadata": {},
   "outputs": [],
   "source": [
    "driver.quit()"
   ]
  },
  {
   "cell_type": "markdown",
   "id": "7c7ec504",
   "metadata": {},
   "source": [
    "Que2"
   ]
  },
  {
   "cell_type": "code",
   "execution_count": 20,
   "id": "b0639540",
   "metadata": {},
   "outputs": [],
   "source": [
    "import pandas as pd\n",
    "from selenium import webdriver\n",
    "from selenium.webdriver.common.by import By\n",
    "from selenium.webdriver.support.ui import WebDriverWait\n",
    "from selenium.webdriver.support import expected_conditions as EC"
   ]
  },
  {
   "cell_type": "code",
   "execution_count": 21,
   "id": "5a0f25a7",
   "metadata": {},
   "outputs": [
    {
     "name": "stdout",
     "output_type": "stream",
     "text": [
      "Enter the product to search: guitar\n"
     ]
    }
   ],
   "source": [
    "product_name = input(\"Enter the product to search: \")"
   ]
  },
  {
   "cell_type": "code",
   "execution_count": 22,
   "id": "d09ce37d",
   "metadata": {},
   "outputs": [],
   "source": [
    "driver = webdriver.Chrome()"
   ]
  },
  {
   "cell_type": "code",
   "execution_count": 23,
   "id": "222b13f9",
   "metadata": {},
   "outputs": [],
   "source": [
    "driver.get(\"https://www.amazon.in/\")"
   ]
  },
  {
   "cell_type": "code",
   "execution_count": 24,
   "id": "ce38ea65",
   "metadata": {},
   "outputs": [],
   "source": [
    "search_box = driver.find_element(By.ID, \"twotabsearchtextbox\")\n",
    "search_box.send_keys(product_name)"
   ]
  },
  {
   "cell_type": "code",
   "execution_count": 25,
   "id": "45228a96",
   "metadata": {},
   "outputs": [],
   "source": [
    "search_button = driver.find_element(By.XPATH, \"//input[@value='Go']\")\n",
    "search_button.click()"
   ]
  },
  {
   "cell_type": "code",
   "execution_count": 26,
   "id": "6d56eea6",
   "metadata": {},
   "outputs": [
    {
     "data": {
      "text/plain": [
       "<selenium.webdriver.remote.webelement.WebElement (session=\"223d2956e7bd445070b725b64ece5cb7\", element=\"6C900C857DC4FFDE95F62F41A08E1ABA_element_67\")>"
      ]
     },
     "execution_count": 26,
     "metadata": {},
     "output_type": "execute_result"
    }
   ],
   "source": [
    "WebDriverWait(driver, 10).until(EC.presence_of_element_located((By.XPATH, \"//div[@data-component-type='s-search-result']\")))"
   ]
  },
  {
   "cell_type": "code",
   "execution_count": 27,
   "id": "1e200355",
   "metadata": {},
   "outputs": [],
   "source": [
    "brands = []\n",
    "product_names = []\n",
    "prices = []\n",
    "return_exchange = []\n",
    "expected_delivery = []\n",
    "availability = []\n",
    "product_urls = []"
   ]
  },
  {
   "cell_type": "code",
   "execution_count": 28,
   "id": "b16a3e45",
   "metadata": {},
   "outputs": [],
   "source": [
    "for page in range(3):\n",
    "    product_links = driver.find_elements(By.XPATH, \"//a[@class='a-link-normal a-text-normal']\")\n"
   ]
  },
  {
   "cell_type": "code",
   "execution_count": 29,
   "id": "73d6d32a",
   "metadata": {},
   "outputs": [],
   "source": [
    "for link in product_links:\n",
    "        # Get product details\n",
    "        product_title = link.get_attribute(\"innerHTML\").strip()\n",
    "        product_url = link.get_attribute(\"href\")"
   ]
  },
  {
   "cell_type": "code",
   "execution_count": 30,
   "id": "9b8631b2",
   "metadata": {},
   "outputs": [
    {
     "ename": "NameError",
     "evalue": "name 'product_url' is not defined",
     "output_type": "error",
     "traceback": [
      "\u001b[1;31m---------------------------------------------------------------------------\u001b[0m",
      "\u001b[1;31mNameError\u001b[0m                                 Traceback (most recent call last)",
      "\u001b[1;32m~\\AppData\\Local\\Temp\\ipykernel_16016\\335884286.py\u001b[0m in \u001b[0;36m<module>\u001b[1;34m\u001b[0m\n\u001b[1;32m----> 1\u001b[1;33m \u001b[0mdriver\u001b[0m\u001b[1;33m.\u001b[0m\u001b[0mget\u001b[0m\u001b[1;33m(\u001b[0m\u001b[0mproduct_url\u001b[0m\u001b[1;33m)\u001b[0m\u001b[1;33m\u001b[0m\u001b[1;33m\u001b[0m\u001b[0m\n\u001b[0m",
      "\u001b[1;31mNameError\u001b[0m: name 'product_url' is not defined"
     ]
    }
   ],
   "source": [
    "driver.get(product_url)"
   ]
  },
  {
   "cell_type": "code",
   "execution_count": 2,
   "id": "2121feca",
   "metadata": {},
   "outputs": [
    {
     "ename": "IndentationError",
     "evalue": "unindent does not match any outer indentation level (<tokenize>, line 3)",
     "output_type": "error",
     "traceback": [
      "\u001b[1;36m  File \u001b[1;32m\"<tokenize>\"\u001b[1;36m, line \u001b[1;32m3\u001b[0m\n\u001b[1;33m    except:\u001b[0m\n\u001b[1;37m    ^\u001b[0m\n\u001b[1;31mIndentationError\u001b[0m\u001b[1;31m:\u001b[0m unindent does not match any outer indentation level\n"
     ]
    }
   ],
   "source": [
    "try:\n",
    "            brand = driver.find_element(By.ID, \"bylineInfo\").text\n",
    "        except:\n",
    "            brand = \"-\""
   ]
  },
  {
   "cell_type": "code",
   "execution_count": null,
   "id": "27c513f2",
   "metadata": {},
   "outputs": [],
   "source": [
    "try:\n",
    "            price = driver.find_element(By.ID, \"priceblock_ourprice\").text\n",
    "        except:\n",
    "            price = \"-\""
   ]
  },
  {
   "cell_type": "code",
   "execution_count": null,
   "id": "ff5ce99d",
   "metadata": {},
   "outputs": [],
   "source": [
    "try:\n",
    "            return_exchange_info = driver.find_element(By.XPATH, \"//span[contains(text(), 'Return or replace items')]\").text\n",
    "        except:\n",
    "            return_exchange_info = \"-\""
   ]
  },
  {
   "cell_type": "code",
   "execution_count": null,
   "id": "7820adc7",
   "metadata": {},
   "outputs": [],
   "source": [
    "try:\n",
    "            delivery_info = driver.find_element(By.XPATH, \"//div[@id='dynamicDeliveryMessage_feature_div']/div[contains(@class, 'a-row')]\").text\n",
    "        except:\n",
    "            delivery_info = \"-\""
   ]
  },
  {
   "cell_type": "code",
   "execution_count": null,
   "id": "1283b285",
   "metadata": {},
   "outputs": [],
   "source": [
    "try:\n",
    "            availability_info = driver.find_element(By.ID, \"availability\").text\n",
    "        except:\n",
    "            availability_info = \"-\""
   ]
  },
  {
   "cell_type": "code",
   "execution_count": null,
   "id": "d193e3d9",
   "metadata": {},
   "outputs": [],
   "source": [
    "brands.append(brand)\n",
    "        product_names.append(product_title)\n",
    "        prices.append(price)\n",
    "        return_exchange.append(return_exchange_info)\n",
    "        expected_delivery.append(delivery_info)\n",
    "        availability.append(availability_info)\n",
    "        product_urls.append(product_url)"
   ]
  },
  {
   "cell_type": "code",
   "execution_count": null,
   "id": "c6adf58b",
   "metadata": {},
   "outputs": [],
   "source": [
    "try:\n",
    "        next_button = driver.find_element(By.XPATH, \"//a[@class='s-pagination-item s-pagination-next s-pagination-button s-pagination-disabled']\")\n",
    "    except:\n",
    "        next_button = driver.find_element(By.XPATH, \"//a[@class='s-pagination-item s-pagination-next s-pagination-button']\")\n",
    "        next_button.click()"
   ]
  },
  {
   "cell_type": "code",
   "execution_count": null,
   "id": "85191a41",
   "metadata": {},
   "outputs": [],
   "source": [
    "data = {\n",
    "    'Brand Name': brands,\n",
    "    'Name of the Product': product_names,\n",
    "    'Price': prices,\n",
    "    'Return/Exchange': return_exchange,\n",
    "    'Expected Delivery': expected_delivery,\n",
    "    'Availability': availability,\n",
    "    'Product URL': product_urls\n",
    "}\n",
    "df = pd.DataFrame(data)"
   ]
  },
  {
   "cell_type": "code",
   "execution_count": null,
   "id": "29a7870b",
   "metadata": {},
   "outputs": [],
   "source": [
    "driver.quit()"
   ]
  },
  {
   "cell_type": "markdown",
   "id": "834e5f3f",
   "metadata": {},
   "source": [
    "Que 3"
   ]
  },
  {
   "cell_type": "code",
   "execution_count": null,
   "id": "bfcdca65",
   "metadata": {},
   "outputs": [],
   "source": [
    "import time\n",
    "import requests\n",
    "from selenium import webdriver\n",
    "from selenium.webdriver.common.by import By\n",
    "from selenium.webdriver.support.ui import WebDriverWait\n",
    "from selenium.webdriver.support import expected_conditions as EC\n"
   ]
  },
  {
   "cell_type": "code",
   "execution_count": null,
   "id": "e668bf11",
   "metadata": {},
   "outputs": [],
   "source": [
    "keywords = ['fruits', 'cars', 'Machine Learning', 'Guitar', 'Cakes']"
   ]
  },
  {
   "cell_type": "code",
   "execution_count": null,
   "id": "1fd737e0",
   "metadata": {},
   "outputs": [],
   "source": [
    "driver = webdriver.Chrome()"
   ]
  },
  {
   "cell_type": "code",
   "execution_count": null,
   "id": "c43ca6f9",
   "metadata": {},
   "outputs": [],
   "source": [
    "driver.get(\"https://images.google.com/\")"
   ]
  },
  {
   "cell_type": "code",
   "execution_count": null,
   "id": "cd9c2539",
   "metadata": {},
   "outputs": [],
   "source": [
    "image_urls = []"
   ]
  },
  {
   "cell_type": "code",
   "execution_count": null,
   "id": "1fa41531",
   "metadata": {},
   "outputs": [],
   "source": [
    "for keyword in keywords:\n",
    "    # Find the search input field and enter the keyword\n",
    "    search_box = driver.find_element(By.CSS_SELECTOR, \"input.gLFyf\")\n",
    "    search_box.clear()\n",
    "    search_box.send_keys(keyword)"
   ]
  },
  {
   "cell_type": "code",
   "execution_count": null,
   "id": "d57e7c35",
   "metadata": {},
   "outputs": [],
   "source": [
    " search_button = driver.find_element(By.CSS_SELECTOR, \"button.Tg7LZd\")\n",
    "    search_button.click()"
   ]
  },
  {
   "cell_type": "code",
   "execution_count": null,
   "id": "6de89bb9",
   "metadata": {},
   "outputs": [],
   "source": [
    "WebDriverWait(driver, 10).until(EC.presence_of_element_located((By.XPATH, \"//img[@class='rg_i Q4LuWd']\")))\n"
   ]
  },
  {
   "cell_type": "code",
   "execution_count": null,
   "id": "cca26df1",
   "metadata": {},
   "outputs": [],
   "source": [
    " for _ in range(3):\n",
    "        driver.execute_script(\"window.scrollTo(0, document.body.scrollHeight);\")\n",
    "        time.sleep(2)"
   ]
  },
  {
   "cell_type": "code",
   "execution_count": null,
   "id": "b0dbe4b1",
   "metadata": {},
   "outputs": [],
   "source": [
    "image_elements = driver.find_elements(By.XPATH, \"//img[@class='rg_i Q4LuWd']\")"
   ]
  },
  {
   "cell_type": "code",
   "execution_count": null,
   "id": "03fe11ac",
   "metadata": {},
   "outputs": [],
   "source": [
    "    count = 0\n",
    "    for element in image_elements:\n",
    "        # Check if we have collected enough images\n",
    "        if count >= 10:\n",
    "            break"
   ]
  },
  {
   "cell_type": "code",
   "execution_count": null,
   "id": "231c1408",
   "metadata": {},
   "outputs": [],
   "source": [
    "image_url = element.get_attribute(\"src\")"
   ]
  },
  {
   "cell_type": "code",
   "execution_count": null,
   "id": "82f1ab9a",
   "metadata": {},
   "outputs": [],
   "source": [
    "if image_url.startswith('data:image'):\n",
    "            continue"
   ]
  },
  {
   "cell_type": "code",
   "execution_count": null,
   "id": "4f4c103e",
   "metadata": {},
   "outputs": [],
   "source": [
    "image_urls.append(image_url)\n",
    "        count += 1"
   ]
  },
  {
   "cell_type": "code",
   "execution_count": null,
   "id": "e928e738",
   "metadata": {},
   "outputs": [],
   "source": [
    "driver.quit()"
   ]
  },
  {
   "cell_type": "markdown",
   "id": "2035954a",
   "metadata": {},
   "source": [
    "Que 4"
   ]
  },
  {
   "cell_type": "code",
   "execution_count": null,
   "id": "1248035f",
   "metadata": {},
   "outputs": [],
   "source": [
    "import pandas as pd\n",
    "from selenium import webdriver\n",
    "from selenium.webdriver.common.by import By\n",
    "from selenium.webdriver.support.ui import WebDriverWait\n",
    "from selenium.webdriver.support import expected_conditions as EC"
   ]
  },
  {
   "cell_type": "code",
   "execution_count": null,
   "id": "9be0fbb9",
   "metadata": {},
   "outputs": [],
   "source": [
    "smartphone_name = input(\"Enter the smartphone to search: \")"
   ]
  },
  {
   "cell_type": "code",
   "execution_count": null,
   "id": "402eb5a6",
   "metadata": {},
   "outputs": [],
   "source": [
    "driver = webdriver.Chrome()"
   ]
  },
  {
   "cell_type": "code",
   "execution_count": null,
   "id": "5c17f509",
   "metadata": {},
   "outputs": [],
   "source": [
    "driver.get(\"https://www.flipkart.com/\")"
   ]
  },
  {
   "cell_type": "code",
   "execution_count": null,
   "id": "55e71f44",
   "metadata": {},
   "outputs": [],
   "source": [
    "try:\n",
    "    close_button = driver.find_element(By.XPATH, \"//button[@class='_2KpZ6l _2doB4z']\")\n",
    "    close_button.click()\n",
    "except:\n",
    "    pass"
   ]
  },
  {
   "cell_type": "code",
   "execution_count": null,
   "id": "7c799cbc",
   "metadata": {},
   "outputs": [],
   "source": [
    "search_box = driver.find_element(By.XPATH, \"//input[@title='Search for products, brands and more']\")\n",
    "search_box.send_keys(smartphone_name)"
   ]
  },
  {
   "cell_type": "code",
   "execution_count": null,
   "id": "87b81544",
   "metadata": {},
   "outputs": [],
   "source": [
    "search_button = driver.find_element(By.XPATH, \"//button[@class='L0Z3Pu']\")\n",
    "search_button.click()"
   ]
  },
  {
   "cell_type": "code",
   "execution_count": null,
   "id": "e199746b",
   "metadata": {},
   "outputs": [],
   "source": [
    "WebDriverWait(driver, 10).until(EC.presence_of_element_located((By.XPATH, \"//div[@class='_1AtVbE']\")))"
   ]
  },
  {
   "cell_type": "code",
   "execution_count": null,
   "id": "818cd473",
   "metadata": {},
   "outputs": [],
   "source": [
    "brands = []\n",
    "smartphone_names = []\n",
    "colours = []\n",
    "rams = []\n",
    "storages = []\n",
    "primary_cameras = []\n",
    "secondary_cameras = []\n",
    "display_sizes = []\n",
    "battery_capacities = []\n",
    "prices = []\n",
    "product_urls = []"
   ]
  },
  {
   "cell_type": "code",
   "execution_count": null,
   "id": "c368a1cc",
   "metadata": {},
   "outputs": [],
   "source": [
    "result_containers = driver.find_elements(By.XPATH, \"//div[@class='_1AtVbE']\")"
   ]
  },
  {
   "cell_type": "code",
   "execution_count": null,
   "id": "1d8f9773",
   "metadata": {},
   "outputs": [],
   "source": [
    "for container in result_containers:\n",
    "    # Extract brand and smartphone name\n",
    "    try:\n",
    "        brand, smartphone_name = container.find_element(By.XPATH, \".//div[@class='_4rR01T']\").\\\n",
    "            text.split(' ', 1)\n",
    "    except:\n",
    "        brand = \"-\"\n",
    "        smartphone_name = \"-\""
   ]
  },
  {
   "cell_type": "code",
   "execution_count": null,
   "id": "5009e475",
   "metadata": {},
   "outputs": [],
   "source": [
    "    try:\n",
    "        colour = container.find_element(By.XPATH, \".//a[contains(text(), 'Color')]/following-sibling::a\").text\n",
    "    except:\n",
    "        colour = \"-\"\n",
    "    \n",
    "    try:\n",
    "        ram = container.find_element(By.XPATH, \".//li[contains(text(), 'RAM')]/following-sibling::li\").text\n",
    "    except:\n",
    "        ram = \"-\"\n",
    "    \n",
    "    try:\n",
    "        storage = container.find_element(By.XPATH, \".//li[contains(text(), 'ROM')]/following-sibling::li\").text\n",
    "    except:\n",
    "        storage = \"-\"\n",
    "    \n",
    "    try:\n",
    "        primary_camera = container.find_element(By.XPATH, \".//li[contains(text(), 'Primary Camera')]/following-sibling::li\").text\n",
    "    except:\n",
    "        primary_camera = \"-\"\n",
    "    \n",
    "    try:\n",
    "        secondary_camera = container.find_element(By.XPATH, \".//li[contains(text(), 'Secondary Camera')]/following-sibling::li\").text\n",
    "    except:\n",
    "        secondary_camera = \"-\"\n",
    "    \n",
    "    try:\n",
    "        display_size = container.find_element(By.XPATH, \".//li[contains(text(), 'Display Size')]/following-sibling::li\").text\n",
    "    except:\n",
    "        display_size = \"-\"\n",
    "    \n",
    "    try:\n",
    "        battery_capacity = container.find_element(By.XPATH, \".//li[contains(text(), 'Battery Capacity')]/following-sibling::li\").text\n",
    "    except:\n",
    "        battery_capacity = \"-\"\n",
    "    \n",
    "    try:\n",
    "        price = container.find_element(By.XPATH, \".//div[@class='_30jeq3 _1_WHN1']\").text\n",
    "    except:\n",
    "        price = \"-\"\n",
    "    \n",
    "    try:\n",
    "        product_url = container.find_element(By.XPATH, \".//a[contains(@class, '_1fQZEK')]\").get_attribute(\"href\")\n",
    "    except:\n",
    "        product_url = \"-\"\n",
    "    "
   ]
  },
  {
   "cell_type": "code",
   "execution_count": null,
   "id": "fd6a7260",
   "metadata": {},
   "outputs": [],
   "source": [
    " brands.append(brand)\n",
    "    smartphone_names.append(smartphone_name)\n",
    "    colours.append(colour)\n",
    "    rams.append(ram)\n",
    "    storages.append(storage)\n",
    "    primary_cameras.append(primary_camera)\n",
    "    secondary_cameras.append(secondary_camera)\n",
    "    display_sizes.append(display_size)\n",
    "    battery_capacities.append(battery_capacity)\n",
    "    prices.append(price)\n",
    "    product_urls.append(product_url)"
   ]
  },
  {
   "cell_type": "code",
   "execution_count": null,
   "id": "c8e939c1",
   "metadata": {},
   "outputs": [],
   "source": [
    "data = {\n",
    "    'Brand Name': brands,\n",
    "    'Smartphone Name': smartphone_names,\n",
    "    'Colour': colours,\n",
    "    'RAM': rams,\n",
    "    'Storage(ROM)': storages,\n",
    "    'Primary Camera': primary_cameras,\n",
    "    'Secondary Camera': secondary_cameras,\n",
    "    'Display Size': display_sizes,\n",
    "    'Battery Capacity': battery_capacities,\n",
    "    'Price': prices,\n",
    "    'Product URL': product_urls\n",
    "}\n",
    "df = pd.DataFrame(data)"
   ]
  },
  {
   "cell_type": "code",
   "execution_count": null,
   "id": "a14709f9",
   "metadata": {},
   "outputs": [],
   "source": [
    "df.to_csv('flipkart_smartphones.csv', index=False)"
   ]
  },
  {
   "cell_type": "code",
   "execution_count": null,
   "id": "71f398ef",
   "metadata": {},
   "outputs": [],
   "source": [
    "driver.quit()"
   ]
  },
  {
   "cell_type": "markdown",
   "id": "6c388955",
   "metadata": {},
   "source": [
    "Que 5"
   ]
  },
  {
   "cell_type": "code",
   "execution_count": null,
   "id": "bdb81264",
   "metadata": {},
   "outputs": [],
   "source": [
    "from selenium import webdriver\n",
    "from selenium.webdriver.common.by import By\n",
    "from selenium.webdriver.support.ui import WebDriverWait\n",
    "from selenium.webdriver.support import expected_conditions as EC\n"
   ]
  },
  {
   "cell_type": "code",
   "execution_count": null,
   "id": "f11067bb",
   "metadata": {},
   "outputs": [],
   "source": [
    "city_name = input(\"Enter the city name: \")"
   ]
  },
  {
   "cell_type": "code",
   "execution_count": null,
   "id": "fd2e3874",
   "metadata": {},
   "outputs": [],
   "source": [
    "driver = webdriver.Chrome()"
   ]
  },
  {
   "cell_type": "code",
   "execution_count": null,
   "id": "f19fa122",
   "metadata": {},
   "outputs": [],
   "source": [
    "driver.get(\"https://maps.google.com/\")"
   ]
  },
  {
   "cell_type": "code",
   "execution_count": null,
   "id": "268e1256",
   "metadata": {},
   "outputs": [],
   "source": [
    "search_box = driver.find_element(By.ID, \"searchboxinput\")\n",
    "search_box.send_keys(city_name)"
   ]
  },
  {
   "cell_type": "code",
   "execution_count": null,
   "id": "f105715b",
   "metadata": {},
   "outputs": [],
   "source": [
    "search_button = driver.find_element(By.ID, \"searchbox-searchbutton\")\n",
    "search_button.click()"
   ]
  },
  {
   "cell_type": "code",
   "execution_count": null,
   "id": "ba501d84",
   "metadata": {},
   "outputs": [],
   "source": [
    "WebDriverWait(driver, 10).until(EC.presence_of_element_located((By.XPATH, \"//div[@class='section-hero-header-title-description']\")))\n"
   ]
  },
  {
   "cell_type": "code",
   "execution_count": null,
   "id": "416c76cf",
   "metadata": {},
   "outputs": [],
   "source": [
    "coordinates_element = driver.find_element(By.XPATH, \"//meta[@itemprop='latitude']\")\n",
    "latitude = coordinates_element.get_attribute(\"content\")\n",
    "coordinates_element = driver.find_element(By.XPATH, \"//meta[@itemprop='longitude']\")\n",
    "longitude = coordinates_element.get_attribute(\"content\")"
   ]
  },
  {
   "cell_type": "code",
   "execution_count": null,
   "id": "5aa505e0",
   "metadata": {},
   "outputs": [],
   "source": [
    "print(\"Geospatial Coordinates:\")\n",
    "print(\"Latitude:\", latitude)\n",
    "print(\"Longitude:\", longitude)"
   ]
  },
  {
   "cell_type": "code",
   "execution_count": null,
   "id": "410fd42e",
   "metadata": {},
   "outputs": [],
   "source": [
    "driver.quit()"
   ]
  },
  {
   "cell_type": "markdown",
   "id": "40a36271",
   "metadata": {},
   "source": [
    "Que 6"
   ]
  },
  {
   "cell_type": "code",
   "execution_count": null,
   "id": "6c26b5c2",
   "metadata": {},
   "outputs": [],
   "source": [
    "import pandas as pd\n",
    "from selenium import webdriver\n",
    "from selenium.webdriver.common.by import By\n",
    "from selenium.webdriver.support.ui import WebDriverWait\n",
    "from selenium.webdriver.support import expected_conditions as EC\n"
   ]
  },
  {
   "cell_type": "code",
   "execution_count": null,
   "id": "84085d5b",
   "metadata": {},
   "outputs": [],
   "source": [
    "driver = webdriver.Chrome()"
   ]
  },
  {
   "cell_type": "code",
   "execution_count": null,
   "id": "9d21b140",
   "metadata": {},
   "outputs": [],
   "source": [
    "driver.get(\"https://www.digit.in/\")"
   ]
  },
  {
   "cell_type": "code",
   "execution_count": null,
   "id": "4df27c09",
   "metadata": {},
   "outputs": [],
   "source": [
    "try:\n",
    "    close_button = driver.find_element(By.XPATH, \"//div[@class='close']\")\n",
    "    close_button.click()\n",
    "except:\n",
    "    pass"
   ]
  },
  {
   "cell_type": "code",
   "execution_count": null,
   "id": "c26cb8a8",
   "metadata": {},
   "outputs": [],
   "source": [
    "top_10_menu = driver.find_element(By.XPATH, \"//div[@data-category='top10']\")\n",
    "driver.execute_script(\"arguments[0].scrollIntoView(true);\", top_10_menu)\n",
    "driver.execute_script(\"arguments[0].setAttribute('style', 'background: yellow;');\", top_10_menu)\n",
    "driver.execute_script(\"arguments[0].setAttribute('style', 'background: white;');\", top_10_menu)"
   ]
  },
  {
   "cell_type": "code",
   "execution_count": null,
   "id": "d8f971af",
   "metadata": {},
   "outputs": [],
   "source": [
    "laptops_menu = driver.find_element(By.XPATH, \"//a[contains(@href, 'laptops')]\")\n",
    "laptops_menu.click()"
   ]
  },
  {
   "cell_type": "code",
   "execution_count": null,
   "id": "33f11f6a",
   "metadata": {},
   "outputs": [],
   "source": [
    "WebDriverWait(driver, 10).until(EC.presence_of_element_located((By.XPATH, \"//div[@class='listing-container']\")))\n"
   ]
  },
  {
   "cell_type": "code",
   "execution_count": null,
   "id": "e8b61eeb",
   "metadata": {},
   "outputs": [],
   "source": [
    "best_gaming_laptops_section = driver.find_element(By.XPATH, \"//div[contains(text(), 'Best Gaming Laptops')]\")\n",
    "best_gaming_laptops_section.click()"
   ]
  },
  {
   "cell_type": "code",
   "execution_count": null,
   "id": "a0c552e1",
   "metadata": {},
   "outputs": [],
   "source": [
    "WebDriverWait(driver, 10).until(EC.presence_of_element_located((By.XPATH, \"//div[@class='listing-container']//div[@class='right-container']\")))"
   ]
  },
  {
   "cell_type": "code",
   "execution_count": null,
   "id": "ff59caf1",
   "metadata": {},
   "outputs": [],
   "source": [
    "laptop_names = []\n",
    "operating_systems = []\n",
    "display_sizes = []\n",
    "processors = []\n",
    "ram_sizes = []\n",
    "storage_types = []\n",
    "prices = []"
   ]
  },
  {
   "cell_type": "code",
   "execution_count": null,
   "id": "87249496",
   "metadata": {},
   "outputs": [],
   "source": [
    "laptops = driver.find_elements(By.XPATH, \"//div[@class='listing-container']//div[@class='right-container']\")\n"
   ]
  },
  {
   "cell_type": "code",
   "execution_count": null,
   "id": "51f6edb7",
   "metadata": {},
   "outputs": [],
   "source": [
    "for laptop in laptops:\n",
    "    # Extract laptop name\n",
    "    laptop_name = laptop.find_element(By.XPATH, \".//a\").text"
   ]
  },
  {
   "cell_type": "code",
   "execution_count": null,
   "id": "d5b8ccad",
   "metadata": {},
   "outputs": [],
   "source": [
    "details = laptop.find_elements(By.XPATH, \".//ul[@class='spec-list']//li\")\n",
    "    laptop_details = [detail.text for detail in details]"
   ]
  },
  {
   "cell_type": "code",
   "execution_count": null,
   "id": "da947cbd",
   "metadata": {},
   "outputs": [],
   "source": [
    "    operating_system = \"-\"\n",
    "    display_size = \"-\"\n",
    "    processor = \"-\"\n",
    "    ram_size = \"-\"\n",
    "    storage_type = \"-\"\n",
    "    price = \"-\""
   ]
  },
  {
   "cell_type": "code",
   "execution_count": null,
   "id": "7b1574b7",
   "metadata": {},
   "outputs": [],
   "source": [
    "    for detail in laptop_details:\n",
    "        if \"OS\" in detail:\n",
    "            operating_system = detail.replace(\"OS\", \"\").strip()\n",
    "        elif \"Display\" in detail:\n",
    "            display_size = detail.replace(\"Display\", \"\").strip()\n",
    "        elif \"Processor\" in detail:\n",
    "            processor = detail.replace(\"Processor\", \"\").strip()\n",
    "        elif \"Memory\" in detail:\n",
    "            ram_size = detail.replace(\"Memory\", \"\").strip()\n",
    "        elif \"Storage\" in detail:\n",
    "            storage_type = detail.replace(\"Storage\", \"\").strip()\n",
    "        elif \"Price\" in detail:\n",
    "            price = detail.replace(\"Price\", \"\").strip()"
   ]
  },
  {
   "cell_type": "code",
   "execution_count": null,
   "id": "8269a52b",
   "metadata": {},
   "outputs": [],
   "source": [
    "    laptop_names.append(laptop_name)\n",
    "    operating_systems.append(operating_system)\n",
    "    display_sizes.append(display_size)\n",
    "    processors.append(processor)\n",
    "    ram_sizes.append(ram_size)\n",
    "    storage_types.append(storage_type)\n",
    "    prices.append(price)"
   ]
  },
  {
   "cell_type": "code",
   "execution_count": null,
   "id": "7c0ecfa3",
   "metadata": {},
   "outputs": [],
   "source": [
    "df.to_csv('digit_gaming_laptops.csv', index=False)"
   ]
  },
  {
   "cell_type": "code",
   "execution_count": null,
   "id": "77fa47f5",
   "metadata": {},
   "outputs": [],
   "source": [
    "driver.quit()"
   ]
  },
  {
   "cell_type": "markdown",
   "id": "04583980",
   "metadata": {},
   "source": [
    "Que7"
   ]
  },
  {
   "cell_type": "code",
   "execution_count": null,
   "id": "d42a91fb",
   "metadata": {},
   "outputs": [],
   "source": [
    "from selenium import webdriver\n",
    "from selenium.webdriver.chrome.service import Service\n",
    "from selenium.webdriver.common.by import By\n",
    "from selenium.webdriver.chrome.options import Options\n"
   ]
  },
  {
   "cell_type": "code",
   "execution_count": null,
   "id": "31f494ea",
   "metadata": {},
   "outputs": [],
   "source": [
    "chrome_options = Options()\n",
    "chrome_options.add_argument(\"--headless\")"
   ]
  },
  {
   "cell_type": "code",
   "execution_count": null,
   "id": "e9f65762",
   "metadata": {},
   "outputs": [],
   "source": [
    "webdriver_service = Service('path_to_chromedriver.exe')"
   ]
  },
  {
   "cell_type": "code",
   "execution_count": null,
   "id": "76637b8c",
   "metadata": {},
   "outputs": [],
   "source": [
    "url = \"https://www.forbes.com/billionaires/\""
   ]
  },
  {
   "cell_type": "code",
   "execution_count": null,
   "id": "3a26aa1d",
   "metadata": {},
   "outputs": [],
   "source": [
    "driver = webdriver.Chrome(service=webdriver_service, options=chrome_options)\n",
    "driver.get(url)"
   ]
  },
  {
   "cell_type": "code",
   "execution_count": null,
   "id": "b3aa071e",
   "metadata": {},
   "outputs": [],
   "source": [
    "driver.implicitly_wait(10)"
   ]
  },
  {
   "cell_type": "code",
   "execution_count": null,
   "id": "a32ca4fe",
   "metadata": {},
   "outputs": [],
   "source": [
    "table = driver.find_element(By.CSS_SELECTOR, \"table.dataTable\")"
   ]
  },
  {
   "cell_type": "code",
   "execution_count": null,
   "id": "798b486b",
   "metadata": {},
   "outputs": [],
   "source": [
    "headers = table.find_elements(By.TAG_NAME, \"th\")\n",
    "header_names = [header.text for header in headers]"
   ]
  },
  {
   "cell_type": "code",
   "execution_count": null,
   "id": "123d45ab",
   "metadata": {},
   "outputs": [],
   "source": [
    "rows = table.find_elements(By.TAG_NAME, \"tr\")"
   ]
  },
  {
   "cell_type": "code",
   "execution_count": null,
   "id": "14345362",
   "metadata": {},
   "outputs": [],
   "source": [
    "for row in rows[1:]:  # Skip the first row as it contains the table headers\n",
    "    data = row.find_elements(By.TAG_NAME, \"td\")\n",
    "    rank = data[0].text\n",
    "    name = data[1].text\n",
    "    net_worth = data[2].text\n",
    "    age = data[3].text\n",
    "    citizenship = data[4].text\n",
    "    source = data[5].text\n",
    "    industry = data[6].text"
   ]
  },
  {
   "cell_type": "code",
   "execution_count": null,
   "id": "11a3832b",
   "metadata": {},
   "outputs": [],
   "source": [
    " print(\"Rank:\", rank)\n",
    "    print(\"Name:\", name)\n",
    "    print(\"Net Worth:\", net_worth)\n",
    "    print(\"Age:\", age)\n",
    "    print(\"Citizenship:\", citizenship)\n",
    "    print(\"Source:\", source)\n",
    "    print(\"Industry:\", industry)\n",
    "    print(\"---------------\")\n"
   ]
  },
  {
   "cell_type": "code",
   "execution_count": null,
   "id": "85fcc5fc",
   "metadata": {},
   "outputs": [],
   "source": [
    "driver.quit()"
   ]
  },
  {
   "cell_type": "markdown",
   "id": "5ef5fab3",
   "metadata": {},
   "source": [
    "Que 8"
   ]
  },
  {
   "cell_type": "code",
   "execution_count": null,
   "id": "67eff998",
   "metadata": {},
   "outputs": [],
   "source": [
    "import time\n",
    "from selenium import webdriver\n",
    "from selenium.webdriver.chrome.service import Service\n",
    "from selenium.webdriver.common.by import By\n",
    "from selenium.webdriver.chrome.options import Options\n",
    "from selenium.webdriver.common.keys import Keys"
   ]
  },
  {
   "cell_type": "code",
   "execution_count": null,
   "id": "e0252f2b",
   "metadata": {},
   "outputs": [],
   "source": [
    "chrome_options = Options()\n",
    "chrome_options.add_argument(\"--headless\") "
   ]
  },
  {
   "cell_type": "code",
   "execution_count": null,
   "id": "c28bc106",
   "metadata": {},
   "outputs": [],
   "source": [
    "webdriver_service = Service('path_to_chromedriver.exe')"
   ]
  },
  {
   "cell_type": "code",
   "execution_count": null,
   "id": "0aa88a09",
   "metadata": {},
   "outputs": [],
   "source": [
    "url = \"https://www.youtube.com/watch?v=<video_id>\""
   ]
  },
  {
   "cell_type": "code",
   "execution_count": null,
   "id": "e6c938e6",
   "metadata": {},
   "outputs": [],
   "source": [
    "driver = webdriver.Chrome(service=webdriver_service, options=chrome_options)\n",
    "driver.get(url)"
   ]
  },
  {
   "cell_type": "code",
   "execution_count": null,
   "id": "04f4d154",
   "metadata": {},
   "outputs": [],
   "source": [
    "time.sleep(5)"
   ]
  },
  {
   "cell_type": "code",
   "execution_count": null,
   "id": "fde83b15",
   "metadata": {},
   "outputs": [],
   "source": [
    "comment_section = driver.find_element(By.CSS_SELECTOR, \"#comments\")\n",
    "driver.execute_script(\"arguments[0].scrollIntoView();\", comment_section)\n",
    "time.sleep(2)"
   ]
  },
  {
   "cell_type": "code",
   "execution_count": null,
   "id": "df25f6c5",
   "metadata": {},
   "outputs": [],
   "source": [
    "while len(driver.find_elements(By.CSS_SELECTOR, \"#content-text\")) < 500:\n",
    "    driver.find_element(By.TAG_NAME, \"body\").send_keys(Keys.END)\n",
    "    time.sleep(2)\n"
   ]
  },
  {
   "cell_type": "code",
   "execution_count": null,
   "id": "36d9f5d0",
   "metadata": {},
   "outputs": [],
   "source": [
    "comments = driver.find_elements(By.CSS_SELECTOR, \"#content-text\")\n",
    "upvotes = driver.find_elements(By.CSS_SELECTOR, \"#vote-count-middle\")\n",
    "timestamps = driver.find_elements(By.CSS_SELECTOR, \"#header-author > yt-formatted-string > a\")"
   ]
  },
  {
   "cell_type": "code",
   "execution_count": null,
   "id": "89726225",
   "metadata": {},
   "outputs": [],
   "source": [
    "for i in range(len(comments)):\n",
    "    comment = comments[i].text\n",
    "    upvote = upvotes[i].text\n",
    "    timestamp = timestamps[i].text"
   ]
  },
  {
   "cell_type": "code",
   "execution_count": null,
   "id": "fd7c5073",
   "metadata": {},
   "outputs": [],
   "source": [
    "  print(\"Comment:\", comment)\n",
    "    print(\"Upvotes:\", upvote)\n",
    "    print(\"Timestamp:\", timestamp)\n",
    "    print(\"------------------\")"
   ]
  },
  {
   "cell_type": "code",
   "execution_count": null,
   "id": "2942ea05",
   "metadata": {},
   "outputs": [],
   "source": [
    "driver.quit()\n"
   ]
  },
  {
   "cell_type": "markdown",
   "id": "00cfdfbc",
   "metadata": {},
   "source": [
    "Que 9"
   ]
  },
  {
   "cell_type": "code",
   "execution_count": null,
   "id": "b3703550",
   "metadata": {},
   "outputs": [],
   "source": [
    "import time\n",
    "from selenium import webdriver\n",
    "from selenium.webdriver.chrome.service import Service\n",
    "from selenium.webdriver.common.by import By\n",
    "from selenium.webdriver.chrome.options import Options"
   ]
  },
  {
   "cell_type": "code",
   "execution_count": null,
   "id": "309ea786",
   "metadata": {},
   "outputs": [],
   "source": [
    "chrome_options = Options()\n",
    "chrome_options.add_argument(\"--headless\")"
   ]
  },
  {
   "cell_type": "code",
   "execution_count": null,
   "id": "0911d932",
   "metadata": {},
   "outputs": [],
   "source": [
    "webdriver_service = Service('path_to_chromedriver.exe')"
   ]
  },
  {
   "cell_type": "code",
   "execution_count": null,
   "id": "9b9652ad",
   "metadata": {},
   "outputs": [],
   "source": [
    "url = \"https://www.hostelworld.com/search?search_keywords=London,%20England&country=England&city=London&date_from=2023-06-01&date_to=2023-06-30&number_of_guests=1\"\n"
   ]
  },
  {
   "cell_type": "code",
   "execution_count": null,
   "id": "d5e8fd7a",
   "metadata": {},
   "outputs": [],
   "source": [
    "driver = webdriver.Chrome(service=webdriver_service, options=chrome_options)\n",
    "driver.get(url)"
   ]
  },
  {
   "cell_type": "code",
   "execution_count": null,
   "id": "81a248c2",
   "metadata": {},
   "outputs": [],
   "source": [
    "time.sleep(5)"
   ]
  },
  {
   "cell_type": "code",
   "execution_count": null,
   "id": "15693dd7",
   "metadata": {},
   "outputs": [],
   "source": [
    "hostels = driver.find_elements(By.CSS_SELECTOR, \".fabresult .hwta-property\")"
   ]
  },
  {
   "cell_type": "code",
   "execution_count": null,
   "id": "00a81f30",
   "metadata": {},
   "outputs": [],
   "source": [
    "for hostel in hostels:\n",
    "    name = hostel.find_element(By.CSS_SELECTOR, \".fabresult h2\").text\n",
    "    distance = hostel.find_element(By.CSS_SELECTOR, \".fabresult .distance\").text\n",
    "    ratings = hostel.find_element(By.CSS_SELECTOR, \".fabresult .score\").text\n",
    "    total_reviews = hostel.find_element(By.CSS_SELECTOR, \".fabresult .review\").text\n",
    "    overall_reviews = hostel.find_element(By.CSS_SELECTOR, \".fabresult .overall\").text\n",
    "    privates_price = hostel.find_element(By.CSS_SELECTOR, \".fabresult .prices-private\").text\n",
    "    dorms_price = hostel.find_element(By.CSS_SELECTOR, \".fabresult .prices-dorm\").text\n",
    "    facilities = hostel.find_element(By.CSS_SELECTOR, \".fabresult .facilities\").text\n",
    "    description = hostel.find_element(By.CSS_SELECTOR, \".fabresult .content\").text\n"
   ]
  },
  {
   "cell_type": "code",
   "execution_count": null,
   "id": "13607e60",
   "metadata": {},
   "outputs": [],
   "source": [
    "    print(\"Name:\", name)\n",
    "    print(\"Distance from City Centre:\", distance)\n",
    "    print(\"Ratings:\", ratings)\n",
    "    print(\"Total Reviews:\", total_reviews)\n",
    "    print(\"Overall Reviews:\", overall_reviews)\n",
    "    print(\"Privates From Price:\", privates_price)\n",
    "    print(\"Dorms From Price:\", dorms_price)\n",
    "    print(\"Facilities:\", facilities)\n",
    "    print(\"Description:\", description)\n",
    "    print(\"------------------\")"
   ]
  },
  {
   "cell_type": "code",
   "execution_count": null,
   "id": "152ef8e4",
   "metadata": {},
   "outputs": [],
   "source": [
    "driver.quit()"
   ]
  },
  {
   "cell_type": "code",
   "execution_count": null,
   "id": "34e138a4",
   "metadata": {},
   "outputs": [],
   "source": []
  },
  {
   "cell_type": "code",
   "execution_count": null,
   "id": "cc17fe04",
   "metadata": {},
   "outputs": [],
   "source": []
  },
  {
   "cell_type": "code",
   "execution_count": null,
   "id": "c1cae05c",
   "metadata": {},
   "outputs": [],
   "source": []
  },
  {
   "cell_type": "code",
   "execution_count": null,
   "id": "305de227",
   "metadata": {},
   "outputs": [],
   "source": []
  },
  {
   "cell_type": "code",
   "execution_count": null,
   "id": "ca6c0111",
   "metadata": {},
   "outputs": [],
   "source": []
  },
  {
   "cell_type": "code",
   "execution_count": null,
   "id": "6108dd2c",
   "metadata": {},
   "outputs": [],
   "source": []
  },
  {
   "cell_type": "code",
   "execution_count": null,
   "id": "77b2140a",
   "metadata": {},
   "outputs": [],
   "source": []
  },
  {
   "cell_type": "code",
   "execution_count": null,
   "id": "605a939e",
   "metadata": {},
   "outputs": [],
   "source": []
  },
  {
   "cell_type": "code",
   "execution_count": null,
   "id": "f3d27bbd",
   "metadata": {},
   "outputs": [],
   "source": []
  },
  {
   "cell_type": "code",
   "execution_count": null,
   "id": "c3906119",
   "metadata": {},
   "outputs": [],
   "source": []
  },
  {
   "cell_type": "code",
   "execution_count": null,
   "id": "f3a6a98f",
   "metadata": {},
   "outputs": [],
   "source": []
  },
  {
   "cell_type": "code",
   "execution_count": null,
   "id": "a022e726",
   "metadata": {},
   "outputs": [],
   "source": []
  },
  {
   "cell_type": "code",
   "execution_count": null,
   "id": "0086c8bd",
   "metadata": {},
   "outputs": [],
   "source": []
  },
  {
   "cell_type": "code",
   "execution_count": null,
   "id": "f56398fc",
   "metadata": {},
   "outputs": [],
   "source": []
  }
 ],
 "metadata": {
  "kernelspec": {
   "display_name": "Python 3 (ipykernel)",
   "language": "python",
   "name": "python3"
  },
  "language_info": {
   "codemirror_mode": {
    "name": "ipython",
    "version": 3
   },
   "file_extension": ".py",
   "mimetype": "text/x-python",
   "name": "python",
   "nbconvert_exporter": "python",
   "pygments_lexer": "ipython3",
   "version": "3.9.13"
  }
 },
 "nbformat": 4,
 "nbformat_minor": 5
}
