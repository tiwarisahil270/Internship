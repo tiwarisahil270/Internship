{
 "cells": [
  {
   "cell_type": "markdown",
   "id": "3634136b",
   "metadata": {},
   "source": [
    "Que1 :Write a python program to scrape data for “Data Analyst” Job position in “Bangalore” location. You have to scrape the job-title, job-location, company_name, experience_required. You have to scrape first 10 jobs data.\n",
    "This task will be done in following steps:\n",
    "1.\tFirst get the webpage https://www.naukri.com/\n",
    "2.\tEnter “Data Analyst” in “Skill, Designations, Companies” field and enter “Bangalore” in “enter the location” field.\n",
    "3.\tThen click the search button.\n",
    "4.\tThen scrape the data for the first 10 jobs results youget.\n",
    "5.\tFinally create a dataframe of the scraped data.\n"
   ]
  },
  {
   "cell_type": "code",
   "execution_count": 1,
   "id": "17ec9437",
   "metadata": {},
   "outputs": [],
   "source": [
    "import selenium\n",
    "import pandas as pd\n",
    "from selenium import webdriver\n",
    "import warnings\n",
    "warnings.filterwarnings('ignore')\n",
    "from selenium.webdriver.common.by import By\n",
    "import time"
   ]
  },
  {
   "cell_type": "code",
   "execution_count": 2,
   "id": "31d3d60c",
   "metadata": {},
   "outputs": [],
   "source": [
    "driver=webdriver.Chrome(r\"chromedriver.exe\")"
   ]
  },
  {
   "cell_type": "code",
   "execution_count": 3,
   "id": "4f0213ad",
   "metadata": {},
   "outputs": [],
   "source": [
    "driver.get('https://www.naukri.com/')"
   ]
  },
  {
   "cell_type": "code",
   "execution_count": 4,
   "id": "e420476c",
   "metadata": {},
   "outputs": [],
   "source": [
    "designation=driver.find_element(By.XPATH,\"/html/body/div[1]/div[7]/div/div/div[1]/div/div/div/div[1]/div/input\")\n",
    "designation.send_keys('Data Analyst')"
   ]
  },
  {
   "cell_type": "code",
   "execution_count": 5,
   "id": "60881b23",
   "metadata": {},
   "outputs": [],
   "source": [
    "location=driver.find_element(By.XPATH,\"/html/body/div[1]/div[7]/div/div/div[5]/div/div/div/div[1]/div/input\")\n",
    "location.send_keys('Bangalore')"
   ]
  },
  {
   "cell_type": "code",
   "execution_count": 6,
   "id": "a999993b",
   "metadata": {},
   "outputs": [],
   "source": [
    "search=driver.find_element(By.XPATH,\"/html/body/div[1]/div[7]/div/div/div[6]\")\n",
    "search.click()"
   ]
  },
  {
   "cell_type": "code",
   "execution_count": 7,
   "id": "7fab7237",
   "metadata": {},
   "outputs": [],
   "source": [
    "job_title=[]\n",
    "job_location=[]"
   ]
  },
  {
   "cell_type": "code",
   "execution_count": 8,
   "id": "f4462ce2",
   "metadata": {},
   "outputs": [],
   "source": [
    "title_tags=driver.find_elements(By.XPATH,'//a[@class=\"title ellipsis\"]')\n",
    "for i in title_tags[0:11]:\n",
    "    title=i.text\n",
    "    job_title.append(title)"
   ]
  },
  {
   "cell_type": "code",
   "execution_count": 9,
   "id": "0ec80bdd",
   "metadata": {},
   "outputs": [
    {
     "data": {
      "text/html": [
       "<div>\n",
       "<style scoped>\n",
       "    .dataframe tbody tr th:only-of-type {\n",
       "        vertical-align: middle;\n",
       "    }\n",
       "\n",
       "    .dataframe tbody tr th {\n",
       "        vertical-align: top;\n",
       "    }\n",
       "\n",
       "    .dataframe thead th {\n",
       "        text-align: right;\n",
       "    }\n",
       "</style>\n",
       "<table border=\"1\" class=\"dataframe\">\n",
       "  <thead>\n",
       "    <tr style=\"text-align: right;\">\n",
       "      <th></th>\n",
       "      <th>title</th>\n",
       "    </tr>\n",
       "  </thead>\n",
       "  <tbody>\n",
       "  </tbody>\n",
       "</table>\n",
       "</div>"
      ],
      "text/plain": [
       "Empty DataFrame\n",
       "Columns: [title]\n",
       "Index: []"
      ]
     },
     "execution_count": 9,
     "metadata": {},
     "output_type": "execute_result"
    }
   ],
   "source": [
    "import pandas as pd\n",
    "df=pd.DataFrame({'title':job_title})\n",
    "df"
   ]
  },
  {
   "cell_type": "markdown",
   "id": "c474d8f3",
   "metadata": {},
   "source": [
    "Que2 :Write a python program to scrape data for “Data Scientist” Job position in “Bangalore” location. You have to scrape the job-title, job-location, company_name. You have to scrape first 10 jobs data.\n",
    "This task will be done in following steps:\n",
    "1.\tFirst get the webpage https://www.naukri.com/\n",
    "2.\t\tEnter “Data Scientist” in “Skill, Designations, Companies” field and enter “Bangalore” in “enter the location” field.\n",
    "3.\tThen click the search button.\n",
    "4.\tThen scrape the data for the first 10 jobs results youget.\n",
    "5.\tFinally create a dataframe of the scraped data.\n"
   ]
  },
  {
   "cell_type": "code",
   "execution_count": 10,
   "id": "49937248",
   "metadata": {},
   "outputs": [],
   "source": [
    "driver=webdriver.Chrome(r\"chromedriver.exe\")"
   ]
  },
  {
   "cell_type": "code",
   "execution_count": 11,
   "id": "4417b855",
   "metadata": {},
   "outputs": [],
   "source": [
    "driver.get('https://www.naukri.com/')"
   ]
  },
  {
   "cell_type": "code",
   "execution_count": 12,
   "id": "fb6afc25",
   "metadata": {},
   "outputs": [],
   "source": [
    "designation=driver.find_element(By.XPATH,\"/html/body/div[1]/div[7]/div/div/div[1]/div/div/div/div[1]/div/input\")\n",
    "designation.send_keys('Data Scientist')"
   ]
  },
  {
   "cell_type": "code",
   "execution_count": 13,
   "id": "aedfb503",
   "metadata": {},
   "outputs": [],
   "source": [
    "location=driver.find_element(By.XPATH,\"/html/body/div[1]/div[7]/div/div/div[5]/div/div/div/div[1]/div/input\")\n",
    "location.send_keys('Bangalore')"
   ]
  },
  {
   "cell_type": "code",
   "execution_count": 14,
   "id": "8fa9e72b",
   "metadata": {},
   "outputs": [],
   "source": [
    "search=driver.find_element(By.XPATH,\"/html/body/div[1]/div[7]/div/div/div[6]\")\n",
    "search.click()"
   ]
  },
  {
   "cell_type": "code",
   "execution_count": 15,
   "id": "4cd59b9a",
   "metadata": {},
   "outputs": [],
   "source": [
    "job_title=[]\n",
    "job_location=[]"
   ]
  },
  {
   "cell_type": "code",
   "execution_count": 16,
   "id": "4e197146",
   "metadata": {},
   "outputs": [],
   "source": [
    "title_tags=driver.find_elements(By.XPATH,'//a[@class=\"title ellipsis\"]')\n",
    "for i in title_tags[0:11]:\n",
    "    title=i.text\n",
    "    job_title.append(title)"
   ]
  },
  {
   "cell_type": "code",
   "execution_count": 17,
   "id": "00d5218c",
   "metadata": {},
   "outputs": [
    {
     "data": {
      "text/html": [
       "<div>\n",
       "<style scoped>\n",
       "    .dataframe tbody tr th:only-of-type {\n",
       "        vertical-align: middle;\n",
       "    }\n",
       "\n",
       "    .dataframe tbody tr th {\n",
       "        vertical-align: top;\n",
       "    }\n",
       "\n",
       "    .dataframe thead th {\n",
       "        text-align: right;\n",
       "    }\n",
       "</style>\n",
       "<table border=\"1\" class=\"dataframe\">\n",
       "  <thead>\n",
       "    <tr style=\"text-align: right;\">\n",
       "      <th></th>\n",
       "      <th>title</th>\n",
       "    </tr>\n",
       "  </thead>\n",
       "  <tbody>\n",
       "  </tbody>\n",
       "</table>\n",
       "</div>"
      ],
      "text/plain": [
       "Empty DataFrame\n",
       "Columns: [title]\n",
       "Index: []"
      ]
     },
     "execution_count": 17,
     "metadata": {},
     "output_type": "execute_result"
    }
   ],
   "source": [
    "import pandas as pd\n",
    "df=pd.DataFrame({'title':job_title})\n",
    "df"
   ]
  },
  {
   "cell_type": "markdown",
   "id": "5ecb95b3",
   "metadata": {},
   "source": [
    "Que 3 : You have to use the location and salary filter.\n",
    "You have to scrape data for “Data Scientist” designation for first 10 job results.\n",
    "You have to scrape the job-title, job-location, company name, experience required. The location filter to be used is “Delhi/NCR”. The salary filter to be used is “3-6” lakhs\n",
    "\n",
    "The task will be done as shown in the below steps:\n",
    "1.\tfirst get thewebpage https://www.naukri.com/\n",
    "2.\tEnter “Data Scientist” in “Skill, Designations, and Companies” field.\n",
    "3.\tThen click the searchbutton.\n",
    "4.\tThen apply the location filter and salary filter by checking the respective boxes\n",
    "5.\tThen scrape the data for the first 10 jobs results youget.\n",
    "6.\tFinally create a dataframe of the scraped data.\n"
   ]
  },
  {
   "cell_type": "code",
   "execution_count": 18,
   "id": "ee9fc3cc",
   "metadata": {},
   "outputs": [],
   "source": [
    "driver=webdriver.Chrome(r\"chromedriver.exe\")"
   ]
  },
  {
   "cell_type": "code",
   "execution_count": 19,
   "id": "7c897fb5",
   "metadata": {},
   "outputs": [],
   "source": [
    "driver.get('https://www.naukri.com/')"
   ]
  },
  {
   "cell_type": "code",
   "execution_count": 20,
   "id": "798c9d99",
   "metadata": {},
   "outputs": [],
   "source": [
    "designation=driver.find_element(By.XPATH,\"/html/body/div[1]/div[7]/div/div/div[1]/div/div/div/div[1]/div/input\")\n",
    "designation.send_keys('Data Scientist')"
   ]
  },
  {
   "cell_type": "code",
   "execution_count": 21,
   "id": "761bd832",
   "metadata": {},
   "outputs": [],
   "source": [
    "search=driver.find_element(By.XPATH,\"/html/body/div[1]/div[7]/div/div/div[6]\")\n",
    "search.click()"
   ]
  },
  {
   "cell_type": "code",
   "execution_count": null,
   "id": "42d5c21f",
   "metadata": {},
   "outputs": [],
   "source": [
    "checkbox1=driver.find_element(By.XPATH,\"/html/body/div[1]/div[4]/div/div/section[1]/div[2]/div[5]/div[2]/div[2]/label/i\")\n",
    "checkbox1.click()"
   ]
  },
  {
   "cell_type": "code",
   "execution_count": null,
   "id": "5082f96a",
   "metadata": {},
   "outputs": [],
   "source": [
    "checkbox2=driver.find_element(By.XPATH,\"/html/body/div[1]/div[4]/div/div/section[1]/div[2]/div[6]/div[2]/div[2]/label/i\")\n",
    "checkbox2.click()"
   ]
  },
  {
   "cell_type": "code",
   "execution_count": null,
   "id": "219ea28d",
   "metadata": {},
   "outputs": [],
   "source": [
    "title_tags=driver.find_elements(By.XPATH,'//a[@class=\"title ellipsis\"]')\n",
    "for i in title_tags[0:11]:\n",
    "    title=i.text\n",
    "    job_title.append(title)"
   ]
  },
  {
   "cell_type": "code",
   "execution_count": null,
   "id": "16c023cf",
   "metadata": {},
   "outputs": [],
   "source": [
    "import pandas as pd\n",
    "df=pd.DataFrame({'title':job_title})\n",
    "df"
   ]
  },
  {
   "cell_type": "markdown",
   "id": "df5264bb",
   "metadata": {},
   "source": [
    "Que :4 Scrape data of first 100 sunglasses listings on flipkart.com. You have to scrape four attributes:\n",
    "1.\tBrand\n",
    "2.\tProduct Description\n",
    "3.\tPrice\n",
    "To scrape the data you have to go through following steps:\n",
    "1.\tGo to Flipkart webpage by url : https://www.flipkart.com/\n",
    "2.\tEnter “sunglasses” in the search field where “search for products, brands and more” is written and click the search icon\n",
    "3.\tAfter that you will reach to the page having a lot of sunglasses. From this page you can scrap the required data asusual.\n",
    "As shown in the above page you have to scrape the tick marked attributes. These are:\n",
    "1.\tRating\n",
    "2.\tReview summary\n",
    "3.\tFull review\n",
    "4.\tYou have to scrape this data for first 100reviews.\n"
   ]
  },
  {
   "cell_type": "code",
   "execution_count": null,
   "id": "c331b5a5",
   "metadata": {},
   "outputs": [],
   "source": [
    "driver=webdriver.Chrome(r\"chromedriver.exe\")"
   ]
  },
  {
   "cell_type": "code",
   "execution_count": null,
   "id": "de4fa5c1",
   "metadata": {},
   "outputs": [],
   "source": [
    "driver.get('https://www.flipkart.com/')"
   ]
  },
  {
   "cell_type": "code",
   "execution_count": null,
   "id": "76fd052d",
   "metadata": {},
   "outputs": [],
   "source": [
    "products=driver.find_element(By.XPATH,\"/html/body/div/div/div[1]/div[1]/div[2]/div[2]/form/div/div/input\")\n",
    "products.send_keys('sunglasses')"
   ]
  },
  {
   "cell_type": "code",
   "execution_count": null,
   "id": "2b58e919",
   "metadata": {},
   "outputs": [],
   "source": [
    "search=driver.find_element(By.XPATH,\"/html/body/div/div/div[1]/div[1]/div[2]/div[2]/form/div/button\")\n",
    "search.click()"
   ]
  },
  {
   "cell_type": "code",
   "execution_count": null,
   "id": "ce6211a2",
   "metadata": {},
   "outputs": [],
   "source": [
    "brand=driver.find_elements(By.XPATH,'//div[@class=\"_2WkVRV\"]')\n",
    "for i in brand[0:40]:\n",
    "    brand=i.text\n",
    "    sunglasses.append(brand)\n"
   ]
  },
  {
   "cell_type": "code",
   "execution_count": null,
   "id": "b6cc7943",
   "metadata": {},
   "outputs": [],
   "source": [
    "product_description=driver.find_element(By.XPATH,'//a[@class=\"IRpwTa\"]')\n",
    "for i in product_description[0:40]:\n",
    "    product_description=i.text\n",
    "    sunglasses.append(product_description)"
   ]
  },
  {
   "cell_type": "code",
   "execution_count": null,
   "id": "17c47f9b",
   "metadata": {},
   "outputs": [],
   "source": [
    "price=driver.find_elements(By.XPATH,'//div[@class=\"_30jeq3\"]')\n",
    "for i in price[0:40]:\n",
    "    price=i.text\n",
    "    sunglasses.append(price)"
   ]
  },
  {
   "cell_type": "code",
   "execution_count": null,
   "id": "7f394f3e",
   "metadata": {},
   "outputs": [],
   "source": [
    "next1=driver.find_element(By.XPATH,\"/html/body/div/div/div[3]/div[1]/div[2]/div[12]/div/div/nav/a[11]\")\n",
    "next1.click()"
   ]
  },
  {
   "cell_type": "code",
   "execution_count": null,
   "id": "ed061604",
   "metadata": {},
   "outputs": [],
   "source": [
    "brand=driver.find_elements(By.XPATH,'//div[@class=\"_2WkVRV\"]')\n",
    "for i in brand[0:40]:\n",
    "    brand=i.text\n",
    "    sunglasses.append(brand)\n"
   ]
  },
  {
   "cell_type": "code",
   "execution_count": null,
   "id": "259a08dc",
   "metadata": {},
   "outputs": [],
   "source": [
    "product_description=driver.find_element(By.XPATH,'//a[@class=\"IRpwTa\"]')\n",
    "for i in product_description[0:40]:\n",
    "    product_description=i.text\n",
    "    sunglasses.append(product_description)"
   ]
  },
  {
   "cell_type": "code",
   "execution_count": null,
   "id": "76a5718b",
   "metadata": {},
   "outputs": [],
   "source": [
    "price=driver.find_element(By.XPATH,'//div[@class=\"_30jeq3\"]')\n",
    "for i in price[0:40]:\n",
    "    price=i.text\n",
    "    sunglasses.append(price)"
   ]
  },
  {
   "cell_type": "code",
   "execution_count": null,
   "id": "8b1fcd51",
   "metadata": {},
   "outputs": [],
   "source": [
    "next1=driver.find_element(By.XPATH,\"/html/body/div/div/div[3]/div[1]/div[2]/div[12]/div/div/nav/a[12]\")\n",
    "next1.click()"
   ]
  },
  {
   "cell_type": "code",
   "execution_count": null,
   "id": "80fcda95",
   "metadata": {},
   "outputs": [],
   "source": [
    "brand=driver.find_elements(By.XPATH,'//div[@class=\"_2WkVRV\"]')\n",
    "for i in brand[0:20]:\n",
    "    brand=i.text\n",
    "    sunglasses.append(brand)\n"
   ]
  },
  {
   "cell_type": "code",
   "execution_count": null,
   "id": "647e508a",
   "metadata": {},
   "outputs": [],
   "source": [
    "product_description=driver.find_elements(By.XPATH,'//a[@class=\"IRpwTa\"]')\n",
    "for i in product_description[0:20]:\n",
    "    product_description=i.text\n",
    "    sunglasses.append(product_description)"
   ]
  },
  {
   "cell_type": "code",
   "execution_count": null,
   "id": "e24e466d",
   "metadata": {},
   "outputs": [],
   "source": [
    "price=driver.find_elements(By.XPATH,'//div[@class=\"_30jeq3\"]')\n",
    "for i in price[0:20]:\n",
    "    price=i.text\n",
    "    sunglasses.append(price)"
   ]
  },
  {
   "cell_type": "code",
   "execution_count": null,
   "id": "8f5a7dc9",
   "metadata": {},
   "outputs": [],
   "source": [
    "import pandas as pd\n",
    "df=pd.DataFrame({'price':sunglasses_price,'product_description':sunglasses_description,'brand':sunglasses_brand})\n",
    "df"
   ]
  },
  {
   "cell_type": "markdown",
   "id": "cfc77725",
   "metadata": {},
   "source": [
    "Que 5"
   ]
  },
  {
   "cell_type": "code",
   "execution_count": null,
   "id": "f7616d20",
   "metadata": {},
   "outputs": [],
   "source": [
    "driver=webdriver.Chrome(r\"chromedriver.exe\")"
   ]
  },
  {
   "cell_type": "code",
   "execution_count": null,
   "id": "aac5d12d",
   "metadata": {},
   "outputs": [],
   "source": [
    "driver.get('https://www.flipkart.com/apple-iphone-11-black-64-gb/product-reviews/itm4e5041ba101fd?pid=MOBFWQ6BXGJCEYNY&lid=LSTMOBFWQ6BXGJCEYNYZXSHRJ&market')"
   ]
  },
  {
   "cell_type": "code",
   "execution_count": null,
   "id": "860eb25c",
   "metadata": {},
   "outputs": [],
   "source": [
    "rating=driver.find_elements(By.XPATH,'//div[@class=\"_3LWZlK _1BLPMq\"]')\n",
    "for i in rating[0:10]:\n",
    "    rating=i.text\n",
    "    iphone11.append(rating)\n",
    "    \n",
    "review_sum=driver.find_elements(By.XPATH,'//p[@class=\"_2-N8zT\"]')\n",
    "for i in review_sum[0:10]:\n",
    "    review_sum=i.text\n",
    "    iphone11.append(review_sum)\n",
    "    \n",
    "full_sum=driver.find_elements(By.XPATH,'//div[@class=\"t-ZTKy\"]')\n",
    "for i in full_sum[0:10]:\n",
    "    full_sum=i.text\n",
    "    iphone11.append(full_sum)"
   ]
  },
  {
   "cell_type": "code",
   "execution_count": null,
   "id": "f25f86ff",
   "metadata": {},
   "outputs": [],
   "source": [
    "next2=driver.find_element(By.XPATH,\"/html/body/div/div/div[3]/div/div/div[2]/div[13]/div/div/nav/a[11]\")\n",
    "next2.click()"
   ]
  },
  {
   "cell_type": "code",
   "execution_count": null,
   "id": "5053df65",
   "metadata": {},
   "outputs": [],
   "source": [
    "rating=driver.find_elements(By.XPATH,'//div[@class=\"_3LWZlK _1BLPMq\"]')\n",
    "for i in rating[0:10]:\n",
    "    rating=i.text\n",
    "    iphone11.append(rating)\n",
    "    \n",
    "review_sum=driver.find_elements(By.XPATH,'//p[@class=\"_2-N8zT\"]')\n",
    "for i in review_sum[0:10]:\n",
    "    review_sum=i.text\n",
    "    iphone11.append(review_sum)\n",
    "    \n",
    "full_sum=driver.find_elements(By.XPATH,'//div[@class=\"t-ZTKy\"]')\n",
    "for i in full_sum[0:10]:\n",
    "    full_sum=i.text\n",
    "    iphone11.append(full_sum)"
   ]
  },
  {
   "cell_type": "code",
   "execution_count": null,
   "id": "f854ac2e",
   "metadata": {},
   "outputs": [],
   "source": [
    "next2=driver.find_element(By.XPATH,\"/html/body/div/div/div[3]/div/div/div[2]/div[13]/div/div/nav/a[11]\")\n",
    "next2.click()"
   ]
  },
  {
   "cell_type": "code",
   "execution_count": null,
   "id": "226d57c9",
   "metadata": {},
   "outputs": [],
   "source": [
    "rating=driver.find_elements(By.XPATH,'//div[@class=\"_3LWZlK _1BLPMq\"]')\n",
    "for i in rating[0:10]:\n",
    "    rating=i.text\n",
    "    iphone11.append(rating)\n",
    "    \n",
    "review_sum=driver.find_elements(By.XPATH,'//p[@class=\"_2-N8zT\"]')\n",
    "for i in review_sum[0:10]:\n",
    "    review_sum=i.text\n",
    "    iphone11.append(review_sum)\n",
    "    \n",
    "full_sum=driver.find_elements(By.XPATH,'//div[@class=\"t-ZTKy\"]')\n",
    "for i in full_sum[0:10]:\n",
    "    full_sum=i.text\n",
    "    iphone11.append(full_sum)"
   ]
  },
  {
   "cell_type": "code",
   "execution_count": null,
   "id": "be2d0766",
   "metadata": {},
   "outputs": [],
   "source": [
    "next2=driver.find_element(By.XPATH,\"/html/body/div/div/div[3]/div/div/div[2]/div[13]/div/div/nav/a[11]\")\n",
    "next2.click()"
   ]
  },
  {
   "cell_type": "code",
   "execution_count": null,
   "id": "42306040",
   "metadata": {},
   "outputs": [],
   "source": [
    "rating=driver.find_elements(By.XPATH,'//div[@class=\"_3LWZlK _1BLPMq\"]')\n",
    "for i in rating[0:10]:\n",
    "    rating=i.text\n",
    "    iphone11.append(rating)\n",
    "    \n",
    "review_sum=driver.find_elements(By.XPATH,'//p[@class=\"_2-N8zT\"]')\n",
    "for i in review_sum[0:10]:\n",
    "    review_sum=i.text\n",
    "    iphone11.append(review_sum)\n",
    "    \n",
    "full_sum=driver.find_elements(By.XPATH,'//div[@class=\"t-ZTKy\"]')\n",
    "for i in full_sum[0:10]:\n",
    "    full_sum=i.text\n",
    "    iphone11.append(full_sum)"
   ]
  },
  {
   "cell_type": "code",
   "execution_count": null,
   "id": "5a3b6fe6",
   "metadata": {},
   "outputs": [],
   "source": [
    "next2=driver.find_element(By.XPATH,\"/html/body/div/div/div[3]/div/div/div[2]/div[13]/div/div/nav/a[11]\")\n",
    "next2.click()"
   ]
  },
  {
   "cell_type": "code",
   "execution_count": null,
   "id": "c6f63321",
   "metadata": {},
   "outputs": [],
   "source": [
    "rating=driver.find_elements(By.XPATH,'//div[@class=\"_3LWZlK _1BLPMq\"]')\n",
    "for i in rating[0:10]:\n",
    "    rating=i.text\n",
    "    iphone11.append(rating)\n",
    "    \n",
    "review_sum=driver.find_elements(By.XPATH,'//p[@class=\"_2-N8zT\"]')\n",
    "for i in review_sum[0:10]:\n",
    "    review_sum=i.text\n",
    "    iphone11.append(review_sum)\n",
    "    \n",
    "full_sum=driver.find_elements(By.XPATH,'//div[@class=\"t-ZTKy\"]')\n",
    "for i in full_sum[0:10]:\n",
    "    full_sum=i.text\n",
    "    iphone11.append(full_sum)"
   ]
  },
  {
   "cell_type": "code",
   "execution_count": null,
   "id": "7f2ba690",
   "metadata": {},
   "outputs": [],
   "source": [
    "next2=driver.find_element(By.XPATH,\"/html/body/div/div/div[3]/div/div/div[2]/div[13]/div/div/nav/a[11]\")\n",
    "next2.click()"
   ]
  },
  {
   "cell_type": "code",
   "execution_count": null,
   "id": "5792c702",
   "metadata": {},
   "outputs": [],
   "source": [
    "rating=driver.find_elements(By.XPATH,'//div[@class=\"_3LWZlK _1BLPMq\"]')\n",
    "for i in rating[0:10]:\n",
    "    rating=i.text\n",
    "    iphone11.append(rating)\n",
    "    \n",
    "review_sum=driver.find_elements(By.XPATH,'//p[@class=\"_2-N8zT\"]')\n",
    "for i in review_sum[0:10]:\n",
    "    review_sum=i.text\n",
    "    iphone11.append(review_sum)\n",
    "    \n",
    "full_sum=driver.find_elements(By.XPATH,'//div[@class=\"t-ZTKy\"]')\n",
    "for i in full_sum[0:10]:\n",
    "    full_sum=i.text\n",
    "    iphone11.append(full_sum)"
   ]
  },
  {
   "cell_type": "code",
   "execution_count": null,
   "id": "8304340b",
   "metadata": {},
   "outputs": [],
   "source": [
    "next2=driver.find_element(By.XPATH,\"/html/body/div/div/div[3]/div/div/div[2]/div[13]/div/div/nav/a[11]\")\n",
    "next2.click()"
   ]
  },
  {
   "cell_type": "code",
   "execution_count": null,
   "id": "dbdb4bff",
   "metadata": {},
   "outputs": [],
   "source": [
    "rating=driver.find_elements(By.XPATH,'//div[@class=\"_3LWZlK _1BLPMq\"]')\n",
    "for i in rating[0:10]:\n",
    "    rating=i.text\n",
    "    iphone11.append(rating)\n",
    "    \n",
    "review_sum=driver.find_elements(By.XPATH,'//p[@class=\"_2-N8zT\"]')\n",
    "for i in review_sum[0:10]:\n",
    "    review_sum=i.text\n",
    "    iphone11.append(review_sum)\n",
    "    \n",
    "full_sum=driver.find_elements(By.XPATH,'//div[@class=\"t-ZTKy\"]')\n",
    "for i in full_sum[0:10]:\n",
    "    full_sum=i.text\n",
    "    iphone11.append(full_sum)"
   ]
  },
  {
   "cell_type": "code",
   "execution_count": null,
   "id": "0f974ca3",
   "metadata": {},
   "outputs": [],
   "source": [
    "next2=driver.find_element(By.XPATH,\"/html/body/div/div/div[3]/div/div/div[2]/div[13]/div/div/nav/a[11]\")\n",
    "next2.click()"
   ]
  },
  {
   "cell_type": "code",
   "execution_count": null,
   "id": "4a2566ea",
   "metadata": {},
   "outputs": [],
   "source": [
    "rating=driver.find_elements(By.XPATH,'//div[@class=\"_3LWZlK _1BLPMq\"]')\n",
    "for i in rating[0:10]:\n",
    "    rating=i.text\n",
    "    iphone11.append(rating)\n",
    "    \n",
    "review_sum=driver.find_elements(By.XPATH,'//p[@class=\"_2-N8zT\"]')\n",
    "for i in review_sum[0:10]:\n",
    "    review_sum=i.text\n",
    "    iphone11.append(review_sum)\n",
    "    \n",
    "full_sum=driver.find_elements(By.XPATH,'//div[@class=\"t-ZTKy\"]')\n",
    "for i in full_sum[0:10]:\n",
    "    full_sum=i.text\n",
    "    iphone11.append(full_sum)"
   ]
  },
  {
   "cell_type": "code",
   "execution_count": null,
   "id": "f1808db8",
   "metadata": {},
   "outputs": [],
   "source": [
    "next2=driver.find_element(By.XPATH,\"/html/body/div/div/div[3]/div/div/div[2]/div[13]/div/div/nav/a[11]\")\n",
    "next2.click()"
   ]
  },
  {
   "cell_type": "code",
   "execution_count": null,
   "id": "f3416f36",
   "metadata": {},
   "outputs": [],
   "source": [
    "rating=driver.find_elements(By.XPATH,'//div[@class=\"_3LWZlK _1BLPMq\"]')\n",
    "for i in rating[0:10]:\n",
    "    rating=i.text\n",
    "    iphone11.append(rating)\n",
    "    \n",
    "review_sum=driver.find_elements(By.XPATH,'//p[@class=\"_2-N8zT\"]')\n",
    "for i in review_sum[0:10]:\n",
    "    review_sum=i.text\n",
    "    iphone11.append(review_sum)\n",
    "    \n",
    "full_sum=driver.find_elements(By.XPATH,'//div[@class=\"t-ZTKy\"]')\n",
    "for i in full_sum[0:10]:\n",
    "    full_sum=i.text\n",
    "    iphone11.append(full_sum)"
   ]
  },
  {
   "cell_type": "code",
   "execution_count": null,
   "id": "3bb45488",
   "metadata": {},
   "outputs": [],
   "source": [
    "next2=driver.find_element(By.XPATH,\"/html/body/div/div/div[3]/div/div/div[2]/div[13]/div/div/nav/a[11]\")\n",
    "next2.click()"
   ]
  },
  {
   "cell_type": "code",
   "execution_count": null,
   "id": "f4413abf",
   "metadata": {},
   "outputs": [],
   "source": [
    "rating=driver.find_elements(By.XPATH,'//div[@class=\"_3LWZlK _1BLPMq\"]')\n",
    "for i in rating[0:10]:\n",
    "    rating=i.text\n",
    "    iphone11.append(rating)\n",
    "    \n",
    "review_sum=driver.find_elements(By.XPATH,'//p[@class=\"_2-N8zT\"]')\n",
    "for i in review_sum[0:10]:\n",
    "    review_sum=i.text\n",
    "    iphone11.append(review_sum)\n",
    "    \n",
    "full_sum=driver.find_elements(By.XPATH,'//div[@class=\"t-ZTKy\"]')\n",
    "for i in full_sum[0:10]:\n",
    "    full_sum=i.text\n",
    "    iphone11.append(full_sum)"
   ]
  },
  {
   "cell_type": "code",
   "execution_count": null,
   "id": "2660fd35",
   "metadata": {},
   "outputs": [],
   "source": [
    "import pandas as pd\n",
    "df=pd.DataFrame({'rating':iphone_rating,'review_sum':review_summary,'full_summary':full_summary})\n",
    "df"
   ]
  },
  {
   "cell_type": "markdown",
   "id": "3a83af7c",
   "metadata": {},
   "source": [
    "que 6 "
   ]
  },
  {
   "cell_type": "code",
   "execution_count": null,
   "id": "7dffffc8",
   "metadata": {},
   "outputs": [],
   "source": [
    "driver=webdriver.Chrome(r\"chromedriver.exe\")"
   ]
  },
  {
   "cell_type": "code",
   "execution_count": null,
   "id": "ca83ab2c",
   "metadata": {},
   "outputs": [],
   "source": [
    "driver.get('https://www.flipkart.com/search?q=sneakers&otracker=search&otracker1=search&marketplace=FLIPKART&as-show=off&as=off')"
   ]
  },
  {
   "cell_type": "code",
   "execution_count": null,
   "id": "5303ba71",
   "metadata": {},
   "outputs": [],
   "source": [
    "products=driver.find_element(By.XPATH,\"/html/body/div/div/div[1]/div[1]/div[2]/div[2]/form/div/div/input\")\n",
    "products.send_keys('sneakers')"
   ]
  },
  {
   "cell_type": "code",
   "execution_count": null,
   "id": "545b9a2e",
   "metadata": {},
   "outputs": [],
   "source": [
    "brand=driver.find_elements(By.XPATH,'//div[@class=\"_2WkVRV\"]')\n",
    "for i in brand[0:40]:\n",
    "    brand=i.text\n",
    "    sneakers.append(brand)\n"
   ]
  },
  {
   "cell_type": "code",
   "execution_count": null,
   "id": "ef8df56b",
   "metadata": {},
   "outputs": [],
   "source": [
    "product_description=driver.find_element(By.XPATH,'//a[@class=\"IRpwTa\"]')\n",
    "for i in product_description[0:40]:\n",
    "    product_description=i.text\n",
    "    sneakers.append(product_description)"
   ]
  },
  {
   "cell_type": "code",
   "execution_count": null,
   "id": "e70c7180",
   "metadata": {},
   "outputs": [],
   "source": [
    "price=driver.find_element(By.XPATH,'//div[@class=\"_30jeq3\"]')\n",
    "for i in price[0:40]:\n",
    "    price=i.text\n",
    "    sneakers.append(price)"
   ]
  },
  {
   "cell_type": "code",
   "execution_count": null,
   "id": "2574bd16",
   "metadata": {},
   "outputs": [],
   "source": [
    "import pandas as pd\n",
    "df=pd.DataFrame({'brand':sneakers_brand,'product_description':product_description,'price':price})\n",
    "df"
   ]
  },
  {
   "cell_type": "markdown",
   "id": "654be892",
   "metadata": {},
   "source": [
    "que 7 : Go to webpage https://www.amazon.in/ Enter “Laptop” in the search field and then click the search icon. Then set CPU Type filter to “Intel Core i7” as shown in the below image:\n",
    "            After setting the filters scrape first 10 laptops data. You have to scrape 3 attributes for each laptop:\n",
    "1.\tTitle\n",
    "2.\tRatings\n",
    "3.\tPrice\n"
   ]
  },
  {
   "cell_type": "code",
   "execution_count": null,
   "id": "863c4e31",
   "metadata": {},
   "outputs": [],
   "source": [
    "driver=webdriver.Chrome(r\"chromedriver.exe\")"
   ]
  },
  {
   "cell_type": "code",
   "execution_count": null,
   "id": "043f4da5",
   "metadata": {},
   "outputs": [],
   "source": [
    "driver.get('https://www.amazon.in/')"
   ]
  },
  {
   "cell_type": "code",
   "execution_count": null,
   "id": "9e0880ea",
   "metadata": {},
   "outputs": [],
   "source": [
    "laptop=driver.find_element(By.XPATH,\"/html/body/div[1]/header/div/div[1]/div[2]/div/form/div[2]/div[1]/input\")\n",
    "laptop.send_keys('laptops')"
   ]
  },
  {
   "cell_type": "code",
   "execution_count": null,
   "id": "18a6c566",
   "metadata": {},
   "outputs": [],
   "source": [
    "search=driver.find_element(By.XPATH,\"/html/body/div[1]/header/div/div[1]/div[2]/div/form/div[3]/div/span/input\")\n",
    "search.click()"
   ]
  },
  {
   "cell_type": "code",
   "execution_count": null,
   "id": "9e65fa84",
   "metadata": {},
   "outputs": [],
   "source": [
    "CPU_type=driver.find_element(By.XPATH,\"/html/body/div[1]/div[2]/div[1]/div[2]/div/div[3]/span/div[1]/div/div/div[6]/ul[6]/span[11]/li/span/a/span\")\n",
    "CPU_type.click()"
   ]
  },
  {
   "cell_type": "code",
   "execution_count": null,
   "id": "a1dd07b6",
   "metadata": {},
   "outputs": [],
   "source": [
    "title=driver.find_elements(By.XPATH,'//span[@class=\"a-size-medium a-color-base a-text-normal\"]')\n",
    "for i in title[0:23]:\n",
    "    title=i.text\n",
    "    laptop.append(title)\n",
    "\n"
   ]
  },
  {
   "cell_type": "code",
   "execution_count": null,
   "id": "218e0021",
   "metadata": {},
   "outputs": [],
   "source": [
    "rating=driver.find_element(By.XPATH,'//a[@class=\"a-popover-trigger a-declarative\"]')\n",
    "for i in rating[0:23]:\n",
    "    rating=i.text\n",
    "    laptop.append(rating)"
   ]
  },
  {
   "cell_type": "code",
   "execution_count": null,
   "id": "8eebfb2d",
   "metadata": {},
   "outputs": [],
   "source": [
    "price=driver.find_element(By.XPATH,'//span[@class=\"a-price-whole\"]')\n",
    "for i in price[0:23]:\n",
    "    price=i.text\n",
    "    laptop.append(price)"
   ]
  },
  {
   "cell_type": "code",
   "execution_count": null,
   "id": "96eba4c3",
   "metadata": {},
   "outputs": [],
   "source": [
    "import pandas as pd\n",
    "df=pd.DataFrame({'title':laptop_title,'rating':laptop_rating,'price':price})\n",
    "df"
   ]
  },
  {
   "cell_type": "markdown",
   "id": "476cacfd",
   "metadata": {},
   "source": [
    "que 8 : Write a python program to scrape data for Top 1000 Quotes of All Time.\n",
    "The above task will be done in following steps:\n",
    "1.\tFirst get the webpagehttps://www.azquotes.com/\n",
    "2.\tClick on Top Quotes\n",
    "3.\tThan scrap a) Quote b) Author c) Type Of Quotes"
   ]
  },
  {
   "cell_type": "code",
   "execution_count": null,
   "id": "f37999f8",
   "metadata": {},
   "outputs": [],
   "source": [
    "driver=webdriver.Chrome(r\"chromedriver.exe\")"
   ]
  },
  {
   "cell_type": "code",
   "execution_count": null,
   "id": "4fa2e55c",
   "metadata": {},
   "outputs": [],
   "source": [
    "driver.get('https://www.azquotes.com/')"
   ]
  },
  {
   "cell_type": "code",
   "execution_count": null,
   "id": "15b7b622",
   "metadata": {},
   "outputs": [],
   "source": [
    "toq=driver.find_elements(By.XPATH,'//div[@class=\"tags\"]')\n",
    "for i in toq[0:101]:\n",
    "    toq=i.text\n",
    "    quotes.append(toq)"
   ]
  },
  {
   "cell_type": "code",
   "execution_count": null,
   "id": "d3860d88",
   "metadata": {},
   "outputs": [],
   "source": [
    "author=driver.find_elements(By.XPATH,'//div[@class=\"author\"]')\n",
    "for i in author[0:101]:\n",
    "    author=i.text\n",
    "    quotes.append(author)"
   ]
  },
  {
   "cell_type": "code",
   "execution_count": null,
   "id": "09e98965",
   "metadata": {},
   "outputs": [],
   "source": [
    "quote=driver.find_elements(By.XPATH,'//div[@class=\"title\"]')\n",
    "for i in quote[0:101]:\n",
    "    quote=i.text\n",
    "    quotes.append(quote)"
   ]
  },
  {
   "cell_type": "code",
   "execution_count": null,
   "id": "ea02b87d",
   "metadata": {},
   "outputs": [],
   "source": [
    "import pandas as pd\n",
    "df=pd.DataFrame({'toq':type_of_quote'author':author,'quote':quotes})\n",
    "df"
   ]
  },
  {
   "cell_type": "markdown",
   "id": "42155078",
   "metadata": {},
   "source": [
    "Que9 : Write a python program to display list of respected former Prime Ministers of India(i.e. Name, Born-Dead, Term of office, Remarks) from https://www.jagranjosh.com/.\n",
    "\n",
    "This task will be done in following steps:\n",
    "1.\tFirst get the webpagehttps://www.jagranjosh.com/\n",
    "2.\tThen You have to click on the GK option\n",
    "3.\tThen click on the List of all Prime Ministers of India\n",
    "4.\tThen scrap the mentioned data and make theDataFrame.\n"
   ]
  },
  {
   "cell_type": "code",
   "execution_count": null,
   "id": "dc4fb9cf",
   "metadata": {},
   "outputs": [],
   "source": [
    "driver=webdriver.Chrome(r\"chromedriver.exe\")"
   ]
  },
  {
   "cell_type": "code",
   "execution_count": null,
   "id": "1ce8e2e8",
   "metadata": {},
   "outputs": [],
   "source": [
    "driver.get('https://www.jagranjosh.com/')"
   ]
  },
  {
   "cell_type": "code",
   "execution_count": null,
   "id": "30ef2069",
   "metadata": {},
   "outputs": [],
   "source": [
    "gk_option = driver.find_element(By.LINK_TEXT, \"GK\")\n",
    "gk_option.click()"
   ]
  },
  {
   "cell_type": "code",
   "execution_count": null,
   "id": "3781182b",
   "metadata": {},
   "outputs": [],
   "source": [
    "pm_list = driver.find_element(By.LINK_TEXT, \"List of all Prime Ministers of India\")\n",
    "pm_list.click()"
   ]
  },
  {
   "cell_type": "code",
   "execution_count": null,
   "id": "601383ff",
   "metadata": {},
   "outputs": [],
   "source": [
    "table = driver.find_element(By.CLASS_NAME, \"tableizer-table\")\n",
    "headers = table.find_elements(By.TAG_NAME, \"th\")\n",
    "column_names = [header.text.strip() for header in headers]"
   ]
  },
  {
   "cell_type": "code",
   "execution_count": null,
   "id": "e18f824c",
   "metadata": {},
   "outputs": [],
   "source": [
    "rows = table.find_elements(By.TAG_NAME, \"tr\")\n",
    "data = []\n",
    "for row in rows[1:]:\n",
    "    cells = row.find_elements(By.TAG_NAME, \"td\")\n",
    "    row_data = [cell.text.strip() for cell in cells]\n",
    "    data.append(row_data)\n",
    "    "
   ]
  },
  {
   "cell_type": "code",
   "execution_count": null,
   "id": "e3fca79c",
   "metadata": {},
   "outputs": [],
   "source": [
    "df = pd.DataFrame(data, columns=column_names)\n",
    "print(df)"
   ]
  },
  {
   "cell_type": "markdown",
   "id": "d555b132",
   "metadata": {},
   "source": [
    "Que 10 : Write a python program to display list of 50 Most expensive cars in the world (i.e. Car name and Price) from https://www.motor1.com/\n",
    "\n",
    "This task will be done in following steps:\n",
    "1.\tFirst get the webpagehttps://www.motor1.com/\n",
    "2.\tThen You have to type in the search bar ’50 most expensive cars’\n",
    "3.\tThen click on 50 most expensive cars in the world..\n",
    "4.\tThen scrap the mentioned data and make the dataframe.\n"
   ]
  },
  {
   "cell_type": "code",
   "execution_count": null,
   "id": "261ca764",
   "metadata": {},
   "outputs": [],
   "source": [
    "driver=webdriver.Chrome(r\"chromedriver.exe\")"
   ]
  },
  {
   "cell_type": "code",
   "execution_count": null,
   "id": "b0d80f94",
   "metadata": {},
   "outputs": [],
   "source": [
    "driver.get('https://www.motor1.com/')"
   ]
  },
  {
   "cell_type": "code",
   "execution_count": null,
   "id": "d76cd83a",
   "metadata": {},
   "outputs": [],
   "source": [
    "search_bar = driver.find_element(By.NAME, \"q\")\n",
    "search_bar.send_keys(\"50 most expensive cars\")"
   ]
  },
  {
   "cell_type": "code",
   "execution_count": null,
   "id": "79efed2e",
   "metadata": {},
   "outputs": [],
   "source": [
    "search_bar.submit()"
   ]
  },
  {
   "cell_type": "code",
   "execution_count": null,
   "id": "63dc015b",
   "metadata": {},
   "outputs": [],
   "source": [
    "expensive_cars_link = driver.find_element(By.LINK_TEXT, \"50 Most Expensive Cars In The World\")\n",
    "expensive_cars_link.click()"
   ]
  },
  {
   "cell_type": "code",
   "execution_count": null,
   "id": "bd6e6e99",
   "metadata": {},
   "outputs": [],
   "source": [
    "car_list = driver.find_elements(By.XPATH, \"//div[@class='price-page-slider-item']\")\n",
    "data = []"
   ]
  },
  {
   "cell_type": "code",
   "execution_count": null,
   "id": "52c510a2",
   "metadata": {},
   "outputs": [],
   "source": [
    "for car in car_list:\n",
    "    name = car.find_element(By.XPATH, \".//div[@class='price-page-slider-item-name']\").text.strip()\n",
    "    price = car.find_element(By.XPATH, \".//div[@class='price-page-slider-item-price']\").text.strip()\n",
    "    data.append([name, price])"
   ]
  },
  {
   "cell_type": "code",
   "execution_count": null,
   "id": "5ca9d98c",
   "metadata": {},
   "outputs": [],
   "source": [
    "df = pd.DataFrame(data, columns=[\"Car Name\", \"Price\"])\n",
    "print(df)"
   ]
  }
 ],
 "metadata": {
  "kernelspec": {
   "display_name": "Python 3 (ipykernel)",
   "language": "python",
   "name": "python3"
  },
  "language_info": {
   "codemirror_mode": {
    "name": "ipython",
    "version": 3
   },
   "file_extension": ".py",
   "mimetype": "text/x-python",
   "name": "python",
   "nbconvert_exporter": "python",
   "pygments_lexer": "ipython3",
   "version": "3.9.13"
  }
 },
 "nbformat": 4,
 "nbformat_minor": 5
}
